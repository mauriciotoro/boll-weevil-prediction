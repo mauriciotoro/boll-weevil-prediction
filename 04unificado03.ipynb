{
 "cells": [
  {
   "cell_type": "code",
   "execution_count": 1,
   "metadata": {},
   "outputs": [
    {
     "name": "stdout",
     "output_type": "stream",
     "text": [
      "Running with mi_virtual_env_3_8\n"
     ]
    }
   ],
   "source": [
    "#Update. Este es el que está funcionando\n",
    "# Unificado con varios modelos\n",
    "\n",
    "print (\"Running with mi_virtual_env_3_8\")\n",
    "import pandas as pd\n",
    "import numpy as np\n",
    "from sklearn.model_selection import train_test_split\n",
    "from sklearn.preprocessing import StandardScaler\n",
    "from sklearn.metrics import accuracy_score\n",
    "from sklearn.metrics import f1_score\n",
    "from sklearn.metrics import classification_report\n",
    "from imblearn.over_sampling import SMOTE\n",
    "from sklearn.model_selection import GridSearchCV\n",
    "import matplotlib.pyplot as plt\n",
    "#Delete the next\n",
    "from sklearn.neural_network import MLPClassifier\n",
    "from sklearn.ensemble import RandomForestClassifier\n",
    "from sklearn.metrics import confusion_matrix\n",
    "import time \n"
   ]
  },
  {
   "cell_type": "code",
   "execution_count": 2,
   "metadata": {},
   "outputs": [],
   "source": [
    "file= \"lecturas_trampas_boll_weevil_06.csv\"\n",
    "bollweevil =  pd.read_csv(file, delimiter=\";\", decimal=',', encoding=\"utf-8\")\n",
    "df= bollweevil"
   ]
  },
  {
   "cell_type": "code",
   "execution_count": 3,
   "metadata": {},
   "outputs": [
    {
     "name": "stdout",
     "output_type": "stream",
     "text": [
      "Time now at greenwich meridian is : 2022-05-14 14:58:37.262712\n"
     ]
    }
   ],
   "source": [
    "\n",
    "import datetime\n",
    "  \n",
    "# using now() to get current time\n",
    "current_time = datetime.datetime.now()\n",
    "  \n",
    "# Printing value of now.\n",
    "print (\"Time now at greenwich meridian is : \"\n",
    "                                    , end = \"\")\n",
    "print (current_time)"
   ]
  },
  {
   "cell_type": "code",
   "execution_count": 4,
   "metadata": {},
   "outputs": [
    {
     "name": "stdout",
     "output_type": "stream",
     "text": [
      "Index(['N', 'City', 'Route', 'Trap code', 'Name GPS', 'Date of reading',\n",
      "       'Entidad que realizo la lectura', 'Epoca cultivo', 'Red', 'Black',\n",
      "       'RedBlack', 'Pluviometric_day', 'Humidity', 'Maximum_temperature',\n",
      "       'Observaciones', 'crop stage'],\n",
      "      dtype='object')\n"
     ]
    }
   ],
   "source": [
    "print (df.columns)"
   ]
  },
  {
   "cell_type": "code",
   "execution_count": 17,
   "metadata": {},
   "outputs": [
    {
     "name": "stdout",
     "output_type": "stream",
     "text": [
      "You choose Red\n",
      "You choose the City:  \n",
      "All_Tem_Plu_Hum:  Maximum_temperature\n"
     ]
    }
   ],
   "source": [
    "#Questions\n",
    "BlackORRed = input('Do you want to work with 1-Red, OR 2-Black? ')\n",
    "if BlackORRed == '1':\n",
    "    BlackORRed = 'Red'\n",
    "    print('You choose Red')\n",
    "else:\n",
    "    BlackORRed = 'Black'\n",
    "    print('You choose Black')\n",
    "\n",
    "All_City= input ('Do you want 1-ALL, or by 2-CITY')\n",
    "City= ''\n",
    "if All_City == '2':\n",
    "    City = input('Choose the city you want to work with: 1-Monteria, 2-Cienaga de Oro, 3-Lorica, 4-Cerete')\n",
    "    if City == '1':\n",
    "        City = 'Monteria'\n",
    "    elif City == '2':\n",
    "        City = 'Cienaga de Oro'\n",
    "    elif City == '3':\n",
    "        City = 'Lorica'\n",
    "    elif City == '4':\n",
    "        City = 'Cerete'\n",
    "print ('You choose the City: ', City)\n",
    "\n",
    "All_Tem_Plu_Hum= input ('Do you want 1-ALL, or any specific: 2-Maximum_temperature, 3-Pluviometric_day, 4-Humidity')\n",
    "if All_Tem_Plu_Hum == '1':\n",
    "    All_Tem_Plu_Hum = \"All_the_variables_were_selected\"\n",
    "elif All_Tem_Plu_Hum == '2':\n",
    "    All_Tem_Plu_Hum = 'Maximum_temperature'\n",
    "elif All_Tem_Plu_Hum == '3':\n",
    "    All_Tem_Plu_Hum = 'Pluviometric_day'\n",
    "elif All_Tem_Plu_Hum == '4':\n",
    "    All_Tem_Plu_Hum = 'Humidity'\n",
    "print('All_Tem_Plu_Hum: ', All_Tem_Plu_Hum)\n",
    "\n",
    "algorithm = '2' # input ('Choose the algorithm: 1-RandomForest, 2-XGBoosting, 3-RandomForestRegressor')\n",
    "CrosVal = '2' # input ('Do you want to run the Cros Validation? Yes = 1, No = 2')"
   ]
  },
  {
   "cell_type": "code",
   "execution_count": 18,
   "metadata": {},
   "outputs": [
    {
     "name": "stdout",
     "output_type": "stream",
     "text": [
      "Using the variable:  Maximum_temperature\n",
      "All:  (13583, 3)\n",
      "Without NA:  (7969, 3) \n",
      "\n",
      "BEFORE FILTERING::::Graph Maximum_temperature  and BlackORRed: \n"
     ]
    },
    {
     "data": {
      "image/png": "[encoded data removed]",
      "text/plain": [
       "<Figure size 432x288 with 1 Axes>"
      ]
     },
     "metadata": {
      "needs_background": "light"
     },
     "output_type": "display_data"
    },
    {
     "name": "stdout",
     "output_type": "stream",
     "text": [
      "Red < 150: \n",
      "(7964, 3)\n",
      "All_Tem_Plu_Hum:  Maximum_temperature\n",
      "Maximum_temperature < 50:  (7920, 3)\n",
      "AFTER FILTERING::::Graph Maximum_temperature  and BlackORRed: \n"
     ]
    },
    {
     "data": {
      "image/png": "[encoded data removed]",
      "text/plain": [
       "<Figure size 432x288 with 1 Axes>"
      ]
     },
     "metadata": {
      "needs_background": "light"
     },
     "output_type": "display_data"
    },
    {
     "name": "stdout",
     "output_type": "stream",
     "text": [
      "Index(['City', 'Maximum_temperature', 'Red'], dtype='object')\n"
     ]
    }
   ],
   "source": [
    "#All variables or not\n",
    "\n",
    "#bollweill2 = bollweill[['Pluviometric_day', 'Humidity', 'Maximum_temperature', 'Black']]\n",
    "#BlackORRed = input('Do you want to work with Red (1) OR Black(2)? ')\n",
    "\n",
    "df2             = df[['City', 'Pluviometric_day', 'Humidity', 'Maximum_temperature', BlackORRed]]\n",
    "# df2             = df[['City', 'Pluviometric_day', 'Humidity', 'Maximum_temperature', BlackORRed, 'Black']] # Esta linea es para cuando se va a hacer la correlación y usa Red, Black\n",
    "\n",
    "\n",
    "if All_Tem_Plu_Hum == 'All_the_variables_were_selected':\n",
    "    print ('All the variables were selected')\n",
    "else:\n",
    "    print ('Using the variable: ', All_Tem_Plu_Hum)\n",
    "    df2   = df2[['City', All_Tem_Plu_Hum, BlackORRed]]\n",
    "\n",
    "print('All: ', df2.shape)\n",
    "df2= df2.dropna()\n",
    "print('Without NA: ', df2.shape, '\\n')\n",
    "\n",
    "if All_Tem_Plu_Hum == 'All_the_variables_were_selected':\n",
    "    # by defaul when is all variables is graphiced with Maximum_temperature\n",
    "    print('BEFORE FILTERING::::Graph Maximum_temperature (by defaul) and BlackORRed: ')\n",
    "    plt.scatter('Maximum_temperature', BlackORRed, data= df2)\n",
    "    plt.xlabel('Maximum_temperature')\n",
    "else:\n",
    "    # Specific for each variable\n",
    "    print('BEFORE FILTERING::::Graph' , All_Tem_Plu_Hum, ' and BlackORRed: ')\n",
    "    plt.scatter(All_Tem_Plu_Hum, BlackORRed, data= df2)\n",
    "    plt.xlabel(All_Tem_Plu_Hum)\n",
    "plt.ylabel(BlackORRed)\n",
    "plt.show()\n",
    "\n",
    "if BlackORRed == 'Red':\n",
    "    df2 = df2[df2.Red < 150]\n",
    "    print ('Red < 150: ')\n",
    "elif BlackORRed == 'Black':\n",
    "    df2 = df2[df2.Black < 200] # <1200 or <500 or < 200\n",
    "    print ('Black < 200: ')\n",
    "print (df2.shape)\n",
    "\n",
    "# Filter outliers from Maximum_temperature\n",
    "if All_Tem_Plu_Hum == 'Maximum_temperature' or All_Tem_Plu_Hum == 'All_the_variables_were_selected':\n",
    "    print('All_Tem_Plu_Hum: ', All_Tem_Plu_Hum)\n",
    "    df2 = df2[df2.Maximum_temperature < 50]\n",
    "    print ('Maximum_temperature < 50: ', df2.shape)\n",
    "# Filter outliers from Humidity\n",
    "if All_Tem_Plu_Hum == 'Humidity' or All_Tem_Plu_Hum == 'All_the_variables_were_selected':\n",
    "    print('All_Tem_Plu_Hum: ', All_Tem_Plu_Hum)\n",
    "    df2 = df2[df2.Humidity > 68]\n",
    "    print ('Humidity > 68: ', df2.shape)\n",
    "\n",
    "# Note: Pluviometric_day does not have outliers\n",
    "\n",
    "\n",
    "if All_Tem_Plu_Hum == 'All_the_variables_were_selected':\n",
    "    # by defaul when is all variables is graphiced with Maximum_temperature\n",
    "    print('AFTER FILTERING::::Graph Maximum_temperature (by defaul) and BlackORRed: ')\n",
    "    plt.scatter('Maximum_temperature', BlackORRed, data= df2)\n",
    "    plt.xlabel('Maximum_temperature')\n",
    "else:\n",
    "    # Specific for each variable\n",
    "    print('AFTER FILTERING::::Graph' , All_Tem_Plu_Hum, ' and BlackORRed: ')\n",
    "    plt.scatter(All_Tem_Plu_Hum, BlackORRed, data= df2)\n",
    "    plt.xlabel(All_Tem_Plu_Hum)\n",
    "plt.ylabel(BlackORRed)\n",
    "plt.show()\n",
    "\n",
    "print(df2.columns)"
   ]
  },
  {
   "cell_type": "code",
   "execution_count": 19,
   "metadata": {},
   "outputs": [
    {
     "name": "stdout",
     "output_type": "stream",
     "text": [
      "All cities\n"
     ]
    }
   ],
   "source": [
    "\n",
    "#By City\n",
    "if All_City == '2': #Si se seleccionó una ciudad..\n",
    "    print ('The city selected is', City)\n",
    "    df2 = df2[df2.City == City] #Filtering only the selected city \n",
    "    print (df2.shape)\n",
    "    print(df2.head)\n",
    "\n",
    "    # Only Maximum_temperature for now\n",
    "    if All_Tem_Plu_Hum == 'Maximum_temperature':\n",
    "        print('Graph  by City: ',  City, 'Maximum_temperature', ' and BlackORRed: ')\n",
    "        plt.scatter(All_Tem_Plu_Hum, BlackORRed, data= df2)\n",
    "        plt.xlabel(All_Tem_Plu_Hum)\n",
    "        plt.ylabel(BlackORRed)\n",
    "        plt.show()\n",
    "else:\n",
    "    print('All cities')"
   ]
  },
  {
   "cell_type": "code",
   "execution_count": 20,
   "metadata": {},
   "outputs": [
    {
     "name": "stdout",
     "output_type": "stream",
     "text": [
      "City\n",
      "Cerete            4083\n",
      "Cienaga de Oro     985\n",
      "Lorica            1800\n",
      "Monteria          1052\n",
      "dtype: int64\n",
      "       Maximum_temperature          Red\n",
      "count          7920.000000  7920.000000\n",
      "mean             33.615290     1.099747\n",
      "std               1.250223     6.159508\n",
      "min              31.300000     0.000000\n",
      "25%              32.628571     0.000000\n",
      "50%              33.306667     0.000000\n",
      "75%              34.568750     0.000000\n",
      "max              37.253333   138.000000\n"
     ]
    }
   ],
   "source": [
    "print ( df2.groupby('City').size() )\n",
    "print (df2.describe() )"
   ]
  },
  {
   "cell_type": "code",
   "execution_count": 21,
   "metadata": {},
   "outputs": [
    {
     "name": "stdout",
     "output_type": "stream",
     "text": [
      "method spearman::: \n",
      "                      Maximum_temperature       Red\n",
      "Maximum_temperature             1.000000  0.035361\n",
      "Red                             0.035361  1.000000\n"
     ]
    }
   ],
   "source": [
    "# After filtering, to make the correlation:\n",
    "# Note Pearson correlation is on 03matrix_correlation_bollweevil2.ipynb\n",
    "# Par hacer esto, recordar activar en el df2 los Red and Blac\n",
    "\n",
    "# r_p = df2.corr()  #Pearson no\n",
    "r_s = df2.corr(method=\"spearman\")\n",
    "r_k = df2.corr(method=\"kendall\")\n",
    "\n",
    "print ('method spearman::: \\n', r_s)\n",
    "# r_s['Black'].sort_values(ascending=False)\n",
    "\n",
    "#OK está desactivado porque no se visualizan las dos bien, una u  otra.\n",
    "# print('\\n Kendal::: \\n', r_k)\n",
    "# r_k['Black'].sort_values(ascending=False)\n"
   ]
  },
  {
   "cell_type": "markdown",
   "metadata": {},
   "source": [
    "## Encoding class labels"
   ]
  },
  {
   "cell_type": "code",
   "execution_count": 233,
   "metadata": {},
   "outputs": [
    {
     "data": {
      "text/plain": [
       "{'Cerete': 0}"
      ]
     },
     "execution_count": 233,
     "metadata": {},
     "output_type": "execute_result"
    }
   ],
   "source": [
    "import numpy as np\n",
    "\n",
    "# create a mapping dict\n",
    "# to convert class labels from strings to integers\n",
    "class_mapping = {label: idx for idx, label in enumerate(np.unique(df2['City']))}\n",
    "class_mapping"
   ]
  },
  {
   "cell_type": "code",
   "execution_count": 234,
   "metadata": {},
   "outputs": [
    {
     "data": {
      "text/html": [
       "<div>\n",
       "<style scoped>\n",
       "    .dataframe tbody tr th:only-of-type {\n",
       "        vertical-align: middle;\n",
       "    }\n",
       "\n",
       "    .dataframe tbody tr th {\n",
       "        vertical-align: top;\n",
       "    }\n",
       "\n",
       "    .dataframe thead th {\n",
       "        text-align: right;\n",
       "    }\n",
       "</style>\n",
       "<table border=\"1\" class=\"dataframe\">\n",
       "  <thead>\n",
       "    <tr style=\"text-align: right;\">\n",
       "      <th></th>\n",
       "      <th>City</th>\n",
       "      <th>Pluviometric_day</th>\n",
       "      <th>Black</th>\n",
       "    </tr>\n",
       "  </thead>\n",
       "  <tbody>\n",
       "    <tr>\n",
       "      <th>0</th>\n",
       "      <td>0</td>\n",
       "      <td>0.000000</td>\n",
       "      <td>15</td>\n",
       "    </tr>\n",
       "    <tr>\n",
       "      <th>262</th>\n",
       "      <td>0</td>\n",
       "      <td>5.526667</td>\n",
       "      <td>196</td>\n",
       "    </tr>\n",
       "    <tr>\n",
       "      <th>263</th>\n",
       "      <td>0</td>\n",
       "      <td>5.526667</td>\n",
       "      <td>186</td>\n",
       "    </tr>\n",
       "    <tr>\n",
       "      <th>265</th>\n",
       "      <td>0</td>\n",
       "      <td>5.526667</td>\n",
       "      <td>113</td>\n",
       "    </tr>\n",
       "    <tr>\n",
       "      <th>273</th>\n",
       "      <td>0</td>\n",
       "      <td>5.526667</td>\n",
       "      <td>105</td>\n",
       "    </tr>\n",
       "    <tr>\n",
       "      <th>...</th>\n",
       "      <td>...</td>\n",
       "      <td>...</td>\n",
       "      <td>...</td>\n",
       "    </tr>\n",
       "    <tr>\n",
       "      <th>13556</th>\n",
       "      <td>0</td>\n",
       "      <td>8.816250</td>\n",
       "      <td>1</td>\n",
       "    </tr>\n",
       "    <tr>\n",
       "      <th>13579</th>\n",
       "      <td>0</td>\n",
       "      <td>8.816250</td>\n",
       "      <td>0</td>\n",
       "    </tr>\n",
       "    <tr>\n",
       "      <th>13580</th>\n",
       "      <td>0</td>\n",
       "      <td>8.816250</td>\n",
       "      <td>0</td>\n",
       "    </tr>\n",
       "    <tr>\n",
       "      <th>13581</th>\n",
       "      <td>0</td>\n",
       "      <td>8.816250</td>\n",
       "      <td>0</td>\n",
       "    </tr>\n",
       "    <tr>\n",
       "      <th>13582</th>\n",
       "      <td>0</td>\n",
       "      <td>8.816250</td>\n",
       "      <td>0</td>\n",
       "    </tr>\n",
       "  </tbody>\n",
       "</table>\n",
       "<p>5804 rows × 3 columns</p>\n",
       "</div>"
      ],
      "text/plain": [
       "       City  Pluviometric_day  Black\n",
       "0         0          0.000000     15\n",
       "262       0          5.526667    196\n",
       "263       0          5.526667    186\n",
       "265       0          5.526667    113\n",
       "273       0          5.526667    105\n",
       "...     ...               ...    ...\n",
       "13556     0          8.816250      1\n",
       "13579     0          8.816250      0\n",
       "13580     0          8.816250      0\n",
       "13581     0          8.816250      0\n",
       "13582     0          8.816250      0\n",
       "\n",
       "[5804 rows x 3 columns]"
      ]
     },
     "execution_count": 234,
     "metadata": {},
     "output_type": "execute_result"
    }
   ],
   "source": [
    "# to convert class labels from strings to integers\n",
    "df2['City'] = df2['City'].map(class_mapping)\n",
    "df2\n"
   ]
  },
  {
   "cell_type": "code",
   "execution_count": 235,
   "metadata": {},
   "outputs": [],
   "source": [
    "#Save to csv\n",
    "#df2.to_csv(\"city_map_red.csv\", sep=';') \n"
   ]
  },
  {
   "cell_type": "code",
   "execution_count": 236,
   "metadata": {},
   "outputs": [
    {
     "name": "stdout",
     "output_type": "stream",
     "text": [
      "Show the frequencies of the new variables: (df2[\"bollweill_category\"].value_counts()) \n",
      " # Low = 0, Medium = 1, High = 2\n",
      "0    3828\n",
      "1    1232\n",
      "2     744\n",
      "Name: bollweill_category, dtype: int64\n",
      "Only  Pluviometric_day\n",
      "Class labels: [0 1 2]\n",
      " ---- 0.003832101821899414 seconds ---- \n"
     ]
    }
   ],
   "source": [
    "\n",
    "\n",
    "#Discretize the variable that represent the number of bollweills\n",
    "# If bollweills < 5 assigns \"Low\"\n",
    "# If 5 < bollweills <= 20 assigns \"Medium\"\n",
    "# If bollweills > 20 assigns \"High\" \n",
    "\n",
    "conditions = [  \n",
    "    (df2[BlackORRed].ge(0) & df2[BlackORRed].lt(5)),\n",
    "    (df2[BlackORRed].ge(5) & df2[BlackORRed].le(20)),\n",
    "    (df2[BlackORRed].gt(20)),\n",
    "]\n",
    "\n",
    "# Low = 0, Medium = 1, High = 2\n",
    "choices = [0, 1, 2]\n",
    "\n",
    "df2[\"bollweill_category\"] = np.select(conditions, choices)\n",
    "\n",
    "#Show the frequencies of the new variables\n",
    "print('Show the frequencies of the new variables: (df2[\"bollweill_category\"].value_counts()) \\n # Low = 0, Medium = 1, High = 2')\n",
    "print (df2[\"bollweill_category\"].value_counts() )\n",
    "\n",
    "#Subset X and y\n",
    "#X = df2[[\"Pluviometric_day\", \"Humidity\", \"Maximum_temperature\"]]\n",
    "\n",
    "#*********\n",
    "if All_Tem_Plu_Hum == 'All_the_variables_were_selected':\n",
    "    print('All climate variables')\n",
    "    X = df2[[\"City\", \"Pluviometric_day\", \"Humidity\", \"Maximum_temperature\"]]\n",
    "else: \n",
    "    print('Only ', All_Tem_Plu_Hum)\n",
    "    X = df2[[\"City\", All_Tem_Plu_Hum]]\n",
    "\n",
    "# target variable\n",
    "y = df2[\"bollweill_category\"]\n",
    "\n",
    "print(\"Class labels:\", np.unique(y))\n",
    "\n",
    "#Show the labels\n",
    "#print(np.bincount(y))\n",
    "#print(np.bincount(y_train))\n",
    "#print(np.bincount(y_test))\n",
    "\n",
    "#WE USE OVERSAMPLING TO BALANCE THE DATASET\n",
    "#We use the SMOTE approach\n",
    "\n",
    "#Oversampling\n",
    "oversample = SMOTE()\n",
    "X, y = oversample.fit_resample(X, y)\n",
    "\n",
    "#Split on training and test set\n",
    "X_train, X_test, y_train, y_test = train_test_split(X, y, test_size = 0.3, stratify = y)\n",
    "\n",
    "#Standarize the data\n",
    "sc = StandardScaler()\n",
    "\n",
    "start_time = time.time()\n",
    "sc.fit(X_train)\n",
    "print(\" ---- %s seconds ---- \" % (time.time() - start_time) )\n",
    "\n",
    "X_train_std = sc.transform(X_train)\n",
    "X_test_std = sc.transform(X_test)\n",
    "\n"
   ]
  },
  {
   "cell_type": "markdown",
   "metadata": {},
   "source": [
    "# Assessing feature importance with Random Forests"
   ]
  },
  {
   "cell_type": "code",
   "execution_count": null,
   "metadata": {},
   "outputs": [],
   "source": [
    "evaluateFeatureImportance = '0' # input(\"Do you want to Calculate feature importance? (y/n) (1/0\")\n",
    "if evaluateFeatureImportance== '1':\n",
    "        print('Calculating fuature importance:')\n",
    "        from sklearn.ensemble import RandomForestClassifier\n",
    "\n",
    "        # TODO Colocar mejor el nombre de las columnas porque quité la de RedBlack\n",
    "        feat_labels = df2.columns[1:] #don't select the first\n",
    "        feat_labels = df2.columns[:4] #the last colum has the category\n",
    "\n",
    "        forest = RandomForestClassifier(n_estimators=500,\n",
    "                                        random_state=1)\n",
    "\n",
    "        forest.fit(X_train, y_train)\n",
    "        importances = forest.feature_importances_\n",
    "\n",
    "        indices = np.argsort(importances)[::-1]\n",
    "\n",
    "        print (\"The variables sum is = 1. The most important is the number 1)\")\n",
    "        for f in range(X_train.shape[1]):\n",
    "                print(\"%2d) %-*s %f\" % (f + 1, 30, \n",
    "                                feat_labels[indices[f]], \n",
    "                                importances[indices[f]]))\n",
    "\n",
    "        plt.title('Feature Importance')\n",
    "        plt.bar(range(X_train.shape[1]), \n",
    "                importances[indices],\n",
    "                align='center')\n",
    "\n",
    "        plt.xticks(range(X_train.shape[1]), \n",
    "                feat_labels[indices], rotation=90)\n",
    "        plt.xlim([-1, X_train.shape[1]])\n",
    "        plt.tight_layout()\n",
    "        #plt.savefig('images/04_09.png', dpi=300)\n",
    "        plt.show()\n",
    "else:\n",
    "        print('Do not calculate fuature importance')\n",
    "\n",
    "\n",
    "\n"
   ]
  },
  {
   "cell_type": "code",
   "execution_count": null,
   "metadata": {},
   "outputs": [],
   "source": [
    "if evaluateFeatureImportance== '1':\n",
    "      from sklearn.feature_selection import SelectFromModel\n",
    "\n",
    "      sfm = SelectFromModel(forest, threshold=0.1, prefit=True)\n",
    "      X_selected = sfm.transform(X_train)\n",
    "      print('Number of features that meet this threshold criterion:', \n",
    "            X_selected.shape[1])"
   ]
  },
  {
   "cell_type": "code",
   "execution_count": null,
   "metadata": {},
   "outputs": [],
   "source": [
    "if evaluateFeatureImportance== '1':\n",
    "    print (\"The variables sum is = 1. The most important is the number 1)\")\n",
    "    for f in range(X_selected.shape[1]):\n",
    "        print(\"%2d) %-*s %f\" % (f + 1, 30, \n",
    "                                feat_labels[indices[f]], \n",
    "                                importances[indices[f]]))"
   ]
  },
  {
   "cell_type": "code",
   "execution_count": null,
   "metadata": {},
   "outputs": [],
   "source": [
    "#rta = input ('Do you want to run the RandomForest?')\n",
    "if algorithm == '1':\n",
    "    #Define the model =================================================================\n",
    "    forest = RandomForestClassifier(criterion='gini',\n",
    "                                    n_estimators=25, \n",
    "                                    random_state=1,\n",
    "                                    n_jobs=2)\n",
    "    #Train the model\n",
    "    start_time = time.time()\n",
    "    forest.fit(X_train_std, y_train)\n",
    "    print(\" ---- %s seconds ---- \" % (time.time() - start_time) )\n",
    "\n",
    "    #Predict on test and train set\n",
    "    y_pred_test = forest.predict(X_test_std)\n",
    "    y_pred_train = forest.predict(X_train_std) #prediccion on train set\n",
    "\n"
   ]
  },
  {
   "cell_type": "markdown",
   "metadata": {},
   "source": [
    "# New section 2"
   ]
  },
  {
   "cell_type": "code",
   "execution_count": null,
   "metadata": {},
   "outputs": [],
   "source": [
    "#rta = input ('Do you want to run the Cros Validation?')\n",
    "if CrosVal == '1':\n",
    "    mlpclassifier = MLPClassifier (max_iter= 1000000)\n",
    "    param_grid={\n",
    "        'hidden_layer_sizes':[16, 32, 64, 128, 256, 512, 1024, 2048],\n",
    "        'activation': ['tanh', 'relu'],\n",
    "        'solver': ['sgd', 'adam'],\n",
    "        'alpha': [0.0001, 0.001, 0.01, 0.05, 0.1, 0.5],\n",
    "        'learning_rate': ['constant', 'adaptive'],\n",
    "    }\n",
    "\n",
    "    #Cross validation\n",
    "    gs = GridSearchCV (\n",
    "        estimator = mlpclassifier,\n",
    "        param_grid = param_grid,\n",
    "        n_jobs = -1,\n",
    "        cv = 5\n",
    "    )\n",
    "\n",
    "    # It takes quite a long time, about 8 hours (31396 seconds). \n",
    "    start_time = time.time()\n",
    "    gs= gs.fit(X_train_std, y_train)\n",
    "    print(\" ---- %s seconds ---- \" % (time.time() - start_time) )\n",
    "\n",
    "    print(gs.best_score_)\n",
    "    print(gs.best_params_)\n",
    "\n",
    "    final_model = gs.best_estimator_\n",
    "    final_model.fit(X_train_std, y_train)\n",
    "    print (\"Test accuracy: %.3f\" % final_model.score( X_test_std, y_test ) )\n",
    "\n",
    "    y_pred = final_model.predict( X_test_std )\n",
    "    print (classification_report( y_test, y_pred ))"
   ]
  },
  {
   "cell_type": "markdown",
   "metadata": {},
   "source": [
    "## Section XGBoost"
   ]
  },
  {
   "cell_type": "code",
   "execution_count": null,
   "metadata": {},
   "outputs": [],
   "source": [
    "#rta = input ('Do you want to run the XGBoosting?')\n",
    "\n",
    "if algorithm == '2':\n",
    "    print ('It is 2')\n",
    "    from sklearn.ensemble import GradientBoostingClassifier\n",
    "\n",
    "    #IMPLEMENT A NEURAL NETWORK\n",
    "\n",
    "    #Create an object of XGBoosting type\n",
    "    xgb_classifier = GradientBoostingClassifier(n_estimators=1000, \n",
    "                                    learning_rate=0.0189, \n",
    "                                    max_depth=13,\n",
    "                                    min_samples_split = 39,\n",
    "                                    subsample = 0.973)\n",
    "\n",
    "    #Train the model with default settings\n",
    "    xgb_classifier.fit(X_train_std, y_train)\n",
    "\n",
    "    #Predict on test and train set\n",
    "    y_pred_test     = xgb_classifier.predict(X_test_std)\n",
    "    y_pred_train    = xgb_classifier.predict(X_train_std) #prediction on train set\n",
    "\n",
    "    print('In')\n",
    "else:\n",
    "    print('Value of algorithm', algorithm)\n"
   ]
  },
  {
   "cell_type": "code",
   "execution_count": null,
   "metadata": {},
   "outputs": [],
   "source": [
    "# Random Forest Regression v2\n",
    "# X = df2[['Pluviometric_day', 'Humidity', 'Maximum_temperature']]\n",
    "# y = df2[BlackORRed]\n",
    "\n",
    "# #Split on training and test set\n",
    "# X_train, X_test, y_train, y_test = train_test_split(X, y, test_size = 0.3, random_state = 1)\n",
    "\n",
    "# #Standarize the data\n",
    "# sc = StandardScaler()\n",
    "\n",
    "# sc.fit(X_train)\n",
    "\n",
    "# X_train_std = sc.transform(X_train)\n",
    "# X_test_std = sc.transform(X_test)\n",
    "\n",
    "#if the algorithm is RandomForestRegressor\n",
    "if algorithm == '3':\n",
    "    from sklearn.ensemble import RandomForestRegressor\n",
    "    from sklearn.datasets import make_regression\n",
    "\n",
    "    X_train, y = make_regression(n_features =4, n_informative =2, random_state =0, shuffle = False )\n",
    "    regr= RandomForestRegressor(max_depth =2, random_state =0)\n",
    "    regr.fit(X_train, y)\n",
    "\n"
   ]
  },
  {
   "cell_type": "code",
   "execution_count": null,
   "metadata": {},
   "outputs": [],
   "source": [
    "\n",
    "#if the algorithm is RandomForestRegressor\n",
    "if algorithm == '3':\n",
    "        # Random Forest Regression\n",
    "        start_time = time.time()\n",
    "        # X = df2[['Pluviometric_day', 'Humidity', 'Maximum_temperature']]\n",
    "        X = df2[['Maximum_temperature']]\n",
    "        y = df2[BlackORRed]\n",
    "\n",
    "        #Oversampling\n",
    "        #oversample = SMOTE()\n",
    "        #X, y = oversample.fit_resample(X, y)\n",
    "\n",
    "        #Split on training and test set\n",
    "        X_train, X_test, y_train, y_test = train_test_split(X, y, test_size = 0.3, random_state = 1)\n",
    "\n",
    "        #Standarize the data\n",
    "        sc = StandardScaler()\n",
    "\n",
    "        sc.fit(X_train)\n",
    "\n",
    "        X_train_std = sc.transform(X_train)\n",
    "        X_test_std = sc.transform(X_test)\n",
    "\n",
    "        from sklearn.ensemble import RandomForestRegressor\n",
    "        from sklearn.metrics import r2_score\n",
    "        from sklearn.metrics import mean_squared_error\n",
    "\n",
    "        forest = RandomForestRegressor(n_estimators=1000, \n",
    "                                criterion='mse', \n",
    "                                random_state=1, \n",
    "                                n_jobs=-1)\n",
    "        forest.fit(X_train_std, y_train)\n",
    "        y_train_pred = forest.predict(X_train_std)\n",
    "        y_test_pred = forest.predict(X_test_std)\n",
    "\n",
    "        print('MSE train: %.3f, test: %.3f' % (\n",
    "                mean_squared_error(y_train, y_train_pred),\n",
    "                mean_squared_error(y_test, y_test_pred)))\n",
    "        print('R^2 train: %.3f, test: %.3f' % (\n",
    "                r2_score(y_train, y_train_pred),\n",
    "                r2_score(y_test, y_test_pred)))\n",
    "\n",
    "        print(\" ---- %s seconds ---- \" % (time.time() - start_time) )\n"
   ]
  },
  {
   "cell_type": "markdown",
   "metadata": {},
   "source": [
    "### Examples: https://heartbeat.comet.ml/random-forest-regression-in-python-using-scikit-learn-9e9b147e2153\n",
    "\n",
    "https://machinelearningmastery.com/random-forest-ensemble-in-python/\n",
    "\n"
   ]
  },
  {
   "cell_type": "markdown",
   "metadata": {},
   "source": [
    "## Confusion Matrix is common for ALL"
   ]
  },
  {
   "cell_type": "code",
   "execution_count": null,
   "metadata": {},
   "outputs": [],
   "source": [
    "print(\"Evaluación del desempeño del modelo con TEST\")\n",
    "cm=confusion_matrix(y_pred_test, y_test)\n",
    "cm\n",
    "#Print accuracy of the model\n",
    "print(\"=============Results for \", BlackORRed, \" City: \", City, \" and Variable: \", All_Tem_Plu_Hum, \". Way 1 =============================\")\n",
    "print(\"Accuracy: %.4f\" % accuracy_score(y_test, y_pred_test))\n",
    "print(\"F1-Score: %.4f\" % f1_score(y_test, y_pred_test, average=\"micro\"))\n",
    "print(classification_report(y_test, y_pred_test))"
   ]
  },
  {
   "cell_type": "code",
   "execution_count": null,
   "metadata": {},
   "outputs": [],
   "source": [
    "# para el  conjunto de entrenamiento\n",
    "print(\"Evaluación del desempeño del modelo con TRAIN\")\n",
    "cm=confusion_matrix(y_pred_train, y_train)\n",
    "cm\n",
    "#Print accuracy of the model\n",
    "print(\"=============Results for \", BlackORRed, \" City: \", City, \" and Variable: \", All_Tem_Plu_Hum, \". Way 1 =============================\")\n",
    "print(\"Accuracy: %.4f\" % accuracy_score(y_train, y_pred_train))\n",
    "print(\"F1-Score: %.4f\" %       f1_score(y_train, y_pred_train, average=\"micro\"))\n",
    "print(classification_report(y_train, y_pred_train))"
   ]
  },
  {
   "cell_type": "markdown",
   "metadata": {},
   "source": [
    "# Test with Other City\n"
   ]
  },
  {
   "cell_type": "code",
   "execution_count": 411,
   "metadata": {},
   "outputs": [
    {
     "name": "stdout",
     "output_type": "stream",
     "text": [
      "Using the variable:  Maximum_temperature\n",
      "(6015, 3)\n",
      "     City  Maximum_temperature  Black\n",
      "0  Cerete                  NaN     15\n",
      "1  Cerete                  NaN    448\n",
      "2  Cerete                  NaN    287\n",
      "3  Cerete                  NaN    119\n",
      "4  Cerete                  NaN     91\n"
     ]
    }
   ],
   "source": [
    "# Testo with other city\n",
    "CLIMATE_VARIABLE = 'Maximum_temperature'\n",
    "\n",
    "print ('Using the variable: ', CLIMATE_VARIABLE)\n",
    "dfCity   = df[['City', CLIMATE_VARIABLE, BlackORRed]]\n",
    "\n",
    "City= 'Cerete' #1-Monteria, 2-Cienaga de Oro, 3-Lorica, 4-Cerete\n",
    "dfCity = dfCity[dfCity.City == City] #Filtering only the selected city \n",
    "print (dfCity.shape)\n",
    "print(dfCity.head(5))\n"
   ]
  },
  {
   "cell_type": "code",
   "execution_count": 412,
   "metadata": {},
   "outputs": [
    {
     "name": "stdout",
     "output_type": "stream",
     "text": [
      "All:  (6015, 3)\n",
      "Without NA:  (4087, 3) \n",
      "\n",
      "Black < 200: \n",
      "(4029, 3)\n"
     ]
    }
   ],
   "source": [
    "\n",
    "print('All: ', dfCity.shape)\n",
    "dfCity= dfCity.dropna()\n",
    "print('Without NA: ', dfCity.shape, '\\n')\n",
    "\n",
    "if BlackORRed == 'Red':\n",
    "    dfCity = dfCity[dfCity.Red < 150]\n",
    "    print ('Red < 150: ')\n",
    "elif BlackORRed == 'Black':\n",
    "    dfCity = dfCity[dfCity.Black < 200] # <1200 or <500 or < 200\n",
    "    print ('Black < 200: ')\n",
    "print (dfCity.shape)\n"
   ]
  },
  {
   "cell_type": "code",
   "execution_count": 413,
   "metadata": {},
   "outputs": [
    {
     "name": "stdout",
     "output_type": "stream",
     "text": [
      "All_Tem_Plu_Hum:  Maximum_temperature\n",
      "Maximum_temperature < 50:  (4029, 3)\n",
      "FILTERING ::: Graph  by City:  Cerete Maximum_temperature  and  Black :\n"
     ]
    },
    {
     "data": {
      "image/png": "[encoded data removed]",
      "text/plain": [
       "<Figure size 432x288 with 1 Axes>"
      ]
     },
     "metadata": {
      "needs_background": "light"
     },
     "output_type": "display_data"
    }
   ],
   "source": [
    "\n",
    "# Filter outliers from Maximum_temperature\n",
    "if All_Tem_Plu_Hum == 'Maximum_temperature' or All_Tem_Plu_Hum == 'All_the_variables_were_selected':\n",
    "    print('All_Tem_Plu_Hum: ', All_Tem_Plu_Hum)\n",
    "    dfCity = dfCity[dfCity.Maximum_temperature < 50]\n",
    "    print ('Maximum_temperature < 50: ', dfCity.shape)\n",
    "# Filter outliers from Humidity\n",
    "if All_Tem_Plu_Hum == 'Humidity' or All_Tem_Plu_Hum == 'All_the_variables_were_selected':\n",
    "    print('All_Tem_Plu_Hum: ', All_Tem_Plu_Hum)\n",
    "    dfCity = dfCity[dfCity.Humidity > 68]\n",
    "    print ('Humidity > 68: ', dfCity.shape)\n",
    "\n",
    "# Note: Pluviometric_day does not have outliers\n",
    "\n",
    "print('FILTERING ::: Graph  by City: ',  City, CLIMATE_VARIABLE, ' and ', BlackORRed, ':')\n",
    "plt.scatter(CLIMATE_VARIABLE, BlackORRed, data= df2)\n",
    "plt.xlabel(CLIMATE_VARIABLE)\n",
    "plt.ylabel(BlackORRed)\n",
    "plt.show()\n"
   ]
  },
  {
   "cell_type": "code",
   "execution_count": 414,
   "metadata": {},
   "outputs": [
    {
     "name": "stdout",
     "output_type": "stream",
     "text": [
      "{'Cerete': 0}\n",
      "       City  Maximum_temperature  Black\n",
      "13556     0              33.4625      1\n",
      "13579     0              33.4625      0\n",
      "13580     0              33.4625      0\n",
      "13581     0              33.4625      0\n",
      "13582     0              33.4625      0\n"
     ]
    }
   ],
   "source": [
    "\n",
    "import numpy as np\n",
    "\n",
    "# create a mapping dict\n",
    "# to convert class labels from strings to integers\n",
    "class_mappingCity = {label: idx for idx, label in enumerate(np.unique(dfCity['City']))}\n",
    "print (class_mappingCity)\n",
    "\n",
    "# to convert class labels from strings to integers\n",
    "dfCity['City'] = dfCity['City'].map(class_mappingCity)\n",
    "print (dfCity.tail(5))\n"
   ]
  },
  {
   "cell_type": "code",
   "execution_count": 415,
   "metadata": {},
   "outputs": [
    {
     "name": "stdout",
     "output_type": "stream",
     "text": [
      "Show the frequencies of the new variables: (dfCity[\"bollweill_category\"].value_counts()) \n",
      " # Low = 0, Medium = 1, High = 2\n",
      "0    2720\n",
      "1     821\n",
      "2     488\n",
      "Name: bollweill_category, dtype: int64\n"
     ]
    }
   ],
   "source": [
    "\n",
    "\n",
    "\n",
    "#Discretize the variable that represent the number of bollweills\n",
    "# If bollweills < 5 assigns \"Low\"\n",
    "# If 5 < bollweills <= 20 assigns \"Medium\"\n",
    "# If bollweills > 20 assigns \"High\" \n",
    "\n",
    "conditionsCity = [  \n",
    "    (dfCity[BlackORRed].ge(0) & dfCity[BlackORRed].lt(5)),\n",
    "    (dfCity[BlackORRed].ge(5) & dfCity[BlackORRed].le(20)),\n",
    "    (dfCity[BlackORRed].gt(20)),\n",
    "]\n",
    "\n",
    "# Low = 0, Medium = 1, High = 2\n",
    "choicesCity = [0, 1, 2]\n",
    "\n",
    "dfCity[\"bollweill_category\"] = np.select(conditionsCity, choicesCity)\n",
    "\n",
    "#Show the frequencies of the new variables\n",
    "print('Show the frequencies of the new variables: (dfCity[\"bollweill_category\"].value_counts()) \\n # Low = 0, Medium = 1, High = 2')\n",
    "print (dfCity[\"bollweill_category\"].value_counts() )\n",
    "\n",
    "#Subset X and y\n",
    "#X = df2[[\"Pluviometric_day\", \"Humidity\", \"Maximum_temperature\"]]\n"
   ]
  },
  {
   "cell_type": "code",
   "execution_count": 416,
   "metadata": {},
   "outputs": [
    {
     "name": "stdout",
     "output_type": "stream",
     "text": [
      "Only  Maximum_temperature\n",
      "Class labels: [0 1 2]\n"
     ]
    }
   ],
   "source": [
    "\n",
    "#Obtain X and y\n",
    "print ('Only ', CLIMATE_VARIABLE)\n",
    "XCity = dfCity[[\"City\", CLIMATE_VARIABLE]]\n",
    "\n",
    "# target variable\n",
    "yCity = dfCity[\"bollweill_category\"]\n",
    "\n",
    "print (\"Class labels:\", np.unique(yCity))\n"
   ]
  },
  {
   "cell_type": "markdown",
   "metadata": {},
   "source": [
    "## Diferent ways to select the rows, e.g.\n",
    "* the first 100 rows\n",
    "* the last 100 rows\n",
    "* random selection"
   ]
  },
  {
   "cell_type": "code",
   "execution_count": 420,
   "metadata": {},
   "outputs": [],
   "source": [
    "# Selecting the rows:"
   ]
  },
  {
   "cell_type": "code",
   "execution_count": 417,
   "metadata": {},
   "outputs": [
    {
     "name": "stdout",
     "output_type": "stream",
     "text": [
      "Oversampling and Split OK\n"
     ]
    }
   ],
   "source": [
    "\n",
    "# TODO try: It is not neccesary to Oversampling\n",
    "#OPC 1 if work with Oversampling\n",
    "\n",
    "#WE USE OVERSAMPLING TO BALANCE THE DATASET\n",
    "#We use the SMOTE approach\n",
    "\n",
    "#Oversampling\n",
    "oversample = SMOTE()\n",
    "XCity, yCity = oversample.fit_resample(XCity, yCity)\n",
    "\n",
    "#Split on training and test set\n",
    "X_trainCity, X_testCity, y_trainCity, y_testCity = train_test_split(XCity, yCity, test_size = 0.3, stratify = yCity)\n",
    "\n",
    "print ('Oversampling and Split OK')\n",
    "\n"
   ]
  },
  {
   "cell_type": "code",
   "execution_count": 418,
   "metadata": {},
   "outputs": [
    {
     "name": "stdout",
     "output_type": "stream",
     "text": [
      "Standarized OK\n"
     ]
    }
   ],
   "source": [
    "#OPC1\n",
    "#Standarize the data\n",
    "sc = StandardScaler()\n",
    "\n",
    "sc.fit(X_trainCity)\n",
    "\n",
    "X_train_stdCity = sc.transform(X_trainCity)\n",
    "X_test_stdCity = sc.transform(X_testCity)\n",
    "\n",
    "#Or may be only XCity, because we do not need divide in train and test, all will be TEST.\n",
    "#X_test_stdCity = sc.transform(XCity)\n",
    "\n",
    "print ('Standarized OK')\n"
   ]
  },
  {
   "cell_type": "code",
   "execution_count": 419,
   "metadata": {},
   "outputs": [
    {
     "name": "stdout",
     "output_type": "stream",
     "text": [
      "Evaluation of  model by City  Cerete\n",
      "[[153 205 228]\n",
      " [239 263 291]\n",
      " [424 348 297]]\n",
      "=============Results for  Black  City:  Cerete  and Variable:  Maximum_temperature . Way 1 =============================\n",
      "Accuracy: 0.2913\n",
      "F1-Score: 0.2913\n",
      "              precision    recall  f1-score   support\n",
      "\n",
      "           0       0.26      0.19      0.22       816\n",
      "           1       0.33      0.32      0.33       816\n",
      "           2       0.28      0.36      0.32       816\n",
      "\n",
      "    accuracy                           0.29      2448\n",
      "   macro avg       0.29      0.29      0.29      2448\n",
      "weighted avg       0.29      0.29      0.29      2448\n",
      "\n",
      "Evaluación del desempeño del modelo con TRAIN\n",
      "[[375 490 475]\n",
      " [567 604 717]\n",
      " [962 810 712]]\n",
      "=============Results for  Black  City:  Cerete  and Variable:  Maximum_temperature . Way 1 =============================\n",
      "Accuracy: 0.2960\n",
      "F1-Score: 0.2960\n",
      "              precision    recall  f1-score   support\n",
      "\n",
      "           0       0.28      0.20      0.23      1904\n",
      "           1       0.32      0.32      0.32      1904\n",
      "           2       0.29      0.37      0.32      1904\n",
      "\n",
      "    accuracy                           0.30      5712\n",
      "   macro avg       0.30      0.30      0.29      5712\n",
      "weighted avg       0.30      0.30      0.29      5712\n",
      "\n"
     ]
    }
   ],
   "source": [
    "#OPC3 OK\n",
    "\n",
    "#Now I assume that the prediction was made with XGBoost and I will test:\n",
    "# predict with Lorica-Red ->> Monteria, Cienaga de Oro\n",
    "\n",
    "\n",
    "#This line dont should be used (It is only for recall purposes)\n",
    "#Train the model with default settings\n",
    "# xgb_classifier.fit(X_train_stdCity, y_trainCity)\n",
    "\n",
    "#Predict on test and train set Predict on test and train set Predict on test and train set Predict on test and train set Predict on test and train set \n",
    "y_pred_testCity     = xgb_classifier.predict(X_test_stdCity)\n",
    "y_pred_trainCity    = xgb_classifier.predict(X_train_stdCity) #prediction on train set\n",
    "\n",
    "\n",
    "#Or may be only XCity, because we do not need divide in train and test, all will be TEST.\n",
    "#y_pred_testCity     = xgb_classifier.predict(XCity)\n",
    "\n",
    "\n",
    "#Results of confusion matrix:\n",
    "print(\"Evaluation of  model by City \", City)\n",
    "cm = confusion_matrix (y_pred_testCity, y_testCity)\n",
    "print (cm)\n",
    "\n",
    "#Print accuracy of the model\n",
    "print (\"=============Results for \", BlackORRed, \" City: \", City, \" and Variable: \", All_Tem_Plu_Hum, \". Way 1 =============================\")\n",
    "print (\"Accuracy: %.4f\" % accuracy_score (y_testCity, y_pred_testCity))\n",
    "print (\"F1-Score: %.4f\" % f1_score       (y_testCity, y_pred_testCity, average=\"micro\"))\n",
    "print (classification_report             (y_testCity, y_pred_testCity))\n",
    "\n",
    "\n",
    "\n",
    "\n",
    "\n",
    "# para el  conjunto de entrenamiento\n",
    "print(\"Evaluación del desempeño del modelo con TRAIN\")\n",
    "cm = confusion_matrix (y_pred_trainCity, y_trainCity)\n",
    "print (cm)\n",
    "#Print accuracy of the model\n",
    "print (\"=============Results for \", BlackORRed, \" City: \", City, \" and Variable: \", All_Tem_Plu_Hum, \". Way 1 =============================\")\n",
    "print (\"Accuracy: %.4f\" % accuracy_score    (y_trainCity, y_pred_trainCity))\n",
    "print (\"F1-Score: %.4f\" %       f1_score    (y_trainCity, y_pred_trainCity, average=\"micro\"))\n",
    "print (classification_report                (y_trainCity, y_pred_trainCity))\n",
    "\n"
   ]
  },
  {
   "cell_type": "markdown",
   "metadata": {},
   "source": [
    "## End Other City"
   ]
  },
  {
   "cell_type": "code",
   "execution_count": null,
   "metadata": {},
   "outputs": [],
   "source": [
    "\n",
    "# Unserpervised - cluster - K-means++\n"
   ]
  },
  {
   "cell_type": "code",
   "execution_count": null,
   "metadata": {},
   "outputs": [],
   "source": [
    "print('End.')"
   ]
  },
  {
   "cell_type": "code",
   "execution_count": null,
   "metadata": {},
   "outputs": [],
   "source": []
  }
 ],
 "metadata": {
  "interpreter": {
   "hash": "edd54fd2e57f078c3487181900183977dd507f0490fbfba7e13d479d25a8ccde"
  },
  "kernelspec": {
   "display_name": "Python 3.8.5 64-bit ('mi_virtual_env_3_8': conda)",
   "name": "python3"
  },
  "language_info": {
   "codemirror_mode": {
    "name": "ipython",
    "version": 3
   },
   "file_extension": ".py",
   "mimetype": "text/x-python",
   "name": "python",
   "nbconvert_exporter": "python",
   "pygments_lexer": "ipython3",
   "version": "3.8.5"
  },
  "orig_nbformat": 4
 },
 "nbformat": 4,
 "nbformat_minor": 2
}
